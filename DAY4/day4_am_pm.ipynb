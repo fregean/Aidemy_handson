{
  "nbformat": 4,
  "nbformat_minor": 0,
  "metadata": {
    "colab": {
      "name": "day4_am_pm",
      "provenance": []
    },
    "kernelspec": {
      "name": "python3",
      "display_name": "Python 3"
    },
    "language_info": {
      "name": "python"
    }
  },
  "cells": [
    {
      "cell_type": "markdown",
      "source": [
        "<a href=\"https://colab.research.google.com/github/fregean/Aidemy_handson/blob/master/day4_am_pm.ipynb\" target=\"_parent\"><img src=\"https://colab.research.google.com/assets/colab-badge.svg\" alt=\"Open In Colab\"/></a>"
      ],
      "metadata": {
        "id": "qTu1efTjHwug"
      }
    },
    {
      "cell_type": "code",
      "source": [
        "import numpy as np\n",
        "import pandas as pd\n",
        "import sklearn\n",
        "import matplotlib\n",
        "from scipy.stats import norm, skew #for some statistics\n",
        "from scipy.special import boxcox1p\n",
        "\n",
        "from sklearn.preprocessing import LabelEncoder\n",
        "from sklearn.model_selection import KFold,cross_val_score,train_test_split\n",
        "from sklearn.metrics import mean_squared_error\n",
        "from sklearn.linear_model import LogisticRegression\n",
        "from sklearn.svm import SVR, LinearSVR\n",
        "from sklearn.ensemble import RandomForestRegressor\n",
        "from sklearn.linear_model import Perceptron\n",
        "from sklearn.linear_model import SGDRegressor\n",
        "from sklearn.tree import DecisionTreeRegressor\n",
        "import xgboost as xgb\n",
        "import lightgbm as lgb\n",
        "\n",
        "import warnings\n",
        "warnings.filterwarnings('ignore')\n",
        "\n",
        "train_df = pd.read_csv('/content/drive/MyDrive/data/HousePrise/train.csv')\n",
        "test_df = pd.read_csv('/content/drive/MyDrive/data/HousePrise/test.csv')\n",
        "\n",
        "# Idを削除\n",
        "train_Id = train_df['Id']\n",
        "test_Id = test_df['Id']\n",
        "train_df.drop(columns=['Id'], inplace=True)\n",
        "test_df.drop(columns=['Id'], inplace=True)\n",
        "\n",
        "# 正解ラベル\n",
        "train_df[\"SalePrice\"] = np.log1p(train_df[\"SalePrice\"])\n",
        "y_train = train_df['SalePrice']\n",
        "train_df.drop(['SalePrice'], axis=1, inplace=True)\n",
        "\n",
        "# 学習データと評価データの結合\n",
        "combined_df = pd.concat([train_df, test_df], axis=0)\n"
      ],
      "metadata": {
        "id": "aXipWrzPjDcX"
      },
      "execution_count": 67,
      "outputs": []
    },
    {
      "cell_type": "code",
      "execution_count": 68,
      "metadata": {
        "colab": {
          "base_uri": "https://localhost:8080/"
        },
        "id": "lulyJuZ4irHG",
        "outputId": "e5fce18f-0a5f-471f-c625-fa8b34dad072"
      },
      "outputs": [
        {
          "output_type": "stream",
          "name": "stdout",
          "text": [
            "LabelEncoder:(2919, 78)\n",
            "get_dummies:(2919, 200)\n",
            "\n",
            "Skew in numerical features: \n",
            "\n",
            "There are 201 skewed numerical features to Box Cox transform\n",
            "--------------------Hold-Out--------------------\n"
          ]
        }
      ],
      "source": [
        "# 欠損値処理\n",
        "for col in ['PoolQC','MiscFeature','Alley', 'FireplaceQu', 'GarageType','GarageFinish','GarageQual', 'GarageCond', 'BsmtQual', 'BsmtCond', 'BsmtExposure', 'BsmtFinType1', 'BsmtFinType2', 'MasVnrType', 'MSSubClass']:\n",
        "    combined_df[col] = combined_df[col].fillna('None')\n",
        "for col in ['BsmtFinSF1', 'BsmtFinSF2', 'BsmtUnfSF','TotalBsmtSF', 'BsmtFullBath', 'BsmtHalfBath', 'MasVnrArea']:\n",
        "    combined_df[col] = combined_df[col].fillna(0)\n",
        "for col in ['MSZoning', 'Electrical', 'KitchenQual', 'Exterior1st', 'Exterior2nd', 'SaleType']:\n",
        "    combined_df[col] = combined_df[col].fillna(combined_df[col].mode()[0])\n",
        "combined_df['Functional'] = combined_df['Functional'].fillna('Typ')\n",
        "combined_df['LotFrontage'] = combined_df.groupby('Neighborhood')['LotFrontage'].transform(lambda x: x.fillna(x.median()))\n",
        "combined_df['GarageYrBlt'] = combined_df['GarageYrBlt'].fillna(combined_df['GarageYrBlt'].median())\n",
        "for col in ['MSSubClass', 'OverallCond', 'YrSold', 'MoSold', 'MSSubClass', 'OverallCond', 'YrSold', 'MoSold']:\n",
        "    combined_df[col] = combined_df[col].astype(str)\n",
        "\n",
        "# 列削除\n",
        "combined_df = combined_df.drop(columns='Utilities')\n",
        "\n",
        "# ラベルのエンコーディング\n",
        "lbe = LabelEncoder()\n",
        "cols = ['FireplaceQu', 'BsmtQual', 'BsmtCond', 'GarageQual', 'GarageCond',\n",
        "        'ExterQual', 'ExterCond','HeatingQC', 'PoolQC', 'KitchenQual', 'BsmtFinType1', \n",
        "        'BsmtFinType2', 'Functional', 'Fence', 'BsmtExposure', 'GarageFinish', 'LandSlope',\n",
        "        'LotShape', 'PavedDrive', 'Street', 'Alley', 'CentralAir', 'MSSubClass', 'OverallCond', \n",
        "        'YrSold', 'MoSold']\n",
        "\n",
        "for col in cols:\n",
        "    combined_df[col] = lbe.fit_transform(list(combined_df[col].values))\n",
        "print(f'LabelEncoder:{combined_df.shape}')\n",
        "\n",
        "# Onehotエンコーディング    \n",
        "combined_df = pd.get_dummies(data=combined_df, drop_first=True)\n",
        "print(f'get_dummies:{combined_df.shape}')    \n",
        "\n",
        "# 特徴量エンジニアリング\n",
        "combined_df['TotalSF'] = combined_df['TotalBsmtSF'] + combined_df['1stFlrSF'] + combined_df['2ndFlrSF']\n",
        "\n",
        "# 歪度修正\n",
        "numeric_feats = combined_df.dtypes[combined_df.dtypes != \"object\"].index\n",
        "\n",
        "skewed_feats = combined_df[numeric_feats].apply(lambda x: skew(x.dropna())).sort_values(ascending=False)\n",
        "print(\"\\nSkew in numerical features: \\n\")\n",
        "\n",
        "skewness = pd.DataFrame({'Skew' :skewed_feats})\n",
        "skewness = skewness[abs(skewness) > 0.75]\n",
        "print(\"There are {} skewed numerical features to Box Cox transform\".format(skewness.shape[0]))\n",
        "\n",
        "skewed_features = skewness.index\n",
        "lam = 0.15\n",
        "for feat in skewed_features:\n",
        "    #combined_df[feat] += 1\n",
        "    combined_df[feat] = boxcox1p(combined_df[feat], lam)\n",
        "\n",
        "# データ分割\n",
        "X_train = combined_df[:len(train_df)]\n",
        "X_test = combined_df[len(train_df):]\n",
        "\n",
        "# ホールドアウト法\n",
        "print('--'*10 + 'Hold-Out' + '--'*10)\n",
        "X_trn, X_val, y_trn, y_val = train_test_split(X_train, y_train, random_state=42, test_size=0.33)"
      ]
    },
    {
      "cell_type": "code",
      "source": [
        "# 決定木\n",
        "print('--'*10 + 'KFold' + '--'*10)\n",
        "cv = KFold(n_splits=3, shuffle=True, random_state=42)\n",
        "rmse_results = []\n",
        "for trn_index, val_index in cv.split(X_train):\n",
        "    X_trn, X_val = X_train.iloc[trn_index, :], X_train.iloc[val_index, :]\n",
        "    y_trn, y_val = y_train[trn_index], y_train[val_index]\n",
        "    \n",
        "    model = DecisionTreeRegressor()\n",
        "    model.fit(X_trn, y_trn)\n",
        "    pred = model.predict(X_val)\n",
        "    rsme = np.sqrt(mean_squared_error(pred, y_val))\n",
        "    rmse_results.append(rsme)\n",
        "\n",
        "print(f'RMSE : {rmse_results}')\n",
        "print(f'Ave  : {np.mean(rmse_results)}')"
      ],
      "metadata": {
        "colab": {
          "base_uri": "https://localhost:8080/"
        },
        "id": "zvsYRTNNj1WB",
        "outputId": "49911a06-0b65-45bb-e683-a0eabdfabf9f"
      },
      "execution_count": 70,
      "outputs": [
        {
          "output_type": "stream",
          "name": "stdout",
          "text": [
            "--------------------KFold--------------------\n",
            "RMSE : [0.19638646043655195, 0.24713585917019557, 0.21367577019277256]\n",
            "Ave  : 0.21906602993317334\n"
          ]
        }
      ]
    },
    {
      "cell_type": "code",
      "source": [
        "# LightGBM\n",
        "print('--'*10 + 'KFold' + '--'*10)\n",
        "cv = KFold(n_splits=3, shuffle=True, random_state=42)\n",
        "rmse_results = []\n",
        "for trn_index, val_index in cv.split(X_train):\n",
        "    X_trn, X_val = X_train.iloc[trn_index, :], X_train.iloc[val_index, :]\n",
        "    y_trn, y_val = y_train[trn_index], y_train[val_index]\n",
        "    \n",
        "    model_lgb = lgb.LGBMRegressor(objective='regression',num_leaves=5,\n",
        "                              learning_rate=0.05, n_estimators=720,\n",
        "                              max_bin = 55, bagging_fraction = 0.8,\n",
        "                              bagging_freq = 5, feature_fraction = 0.2319,\n",
        "                              feature_fraction_seed=9, bagging_seed=9,\n",
        "                              min_data_in_leaf =6, min_sum_hessian_in_leaf = 11)\n",
        "    model.fit(X_trn, y_trn)\n",
        "    pred = model.predict(X_val)\n",
        "    rsme = np.sqrt(mean_squared_error(pred, y_val))\n",
        "    rmse_results.append(rsme)\n",
        "\n",
        "print(f'RMSE : {rmse_results}')\n",
        "print(f'Ave  : {np.mean(rmse_results)}')"
      ],
      "metadata": {
        "colab": {
          "base_uri": "https://localhost:8080/"
        },
        "id": "T8dHunlpj1R2",
        "outputId": "09f0106e-6b0f-4e57-a872-455367b4c0da"
      },
      "execution_count": 61,
      "outputs": [
        {
          "output_type": "stream",
          "name": "stdout",
          "text": [
            "--------------------KFold--------------------\n",
            "RMSE : [0.1979355577911816, 0.24081939677879133, 0.21290264103441403]\n",
            "Ave  : 0.21721919853479565\n"
          ]
        }
      ]
    },
    {
      "cell_type": "code",
      "source": [
        "# 評価指標\n",
        "def rmsle(y, y_pred):\n",
        "    return np.sqrt(mean_squared_error(y, y_pred))\n",
        "\n",
        "model_lgb = lgb.LGBMRegressor(objective='regression',num_leaves=5,\n",
        "                              learning_rate=0.05, n_estimators=720,\n",
        "                              max_bin = 55, bagging_fraction = 0.8,\n",
        "                              bagging_freq = 5, feature_fraction = 0.2319,\n",
        "                              feature_fraction_seed=9, bagging_seed=9,\n",
        "                              min_data_in_leaf =6, min_sum_hessian_in_leaf = 11)\n",
        "\n",
        "model_lgb.fit(X_train, y_train)\n",
        "lgb_train_pred = model_lgb.predict(X_train)\n",
        "lgb_pred = np.expm1(model_lgb.predict(X_test.values))\n",
        "print(rmsle(y_train, lgb_train_pred))\n"
      ],
      "metadata": {
        "colab": {
          "base_uri": "https://localhost:8080/"
        },
        "id": "3fBIGbfAj1ON",
        "outputId": "cb7dcfcf-b75e-4eb8-b7d0-e94cf29bfb41"
      },
      "execution_count": 62,
      "outputs": [
        {
          "output_type": "stream",
          "name": "stdout",
          "text": [
            "0.07484429088328226\n"
          ]
        }
      ]
    },
    {
      "cell_type": "code",
      "source": [
        "# 提出用csv作成\n",
        "sub = pd.DataFrame()\n",
        "sub['Id'] = test_Id\n",
        "sub['SalePrice'] = lgb_pred\n",
        "sub.to_csv('submission.csv',index=False)"
      ],
      "metadata": {
        "id": "yD03qq78jMlT"
      },
      "execution_count": 63,
      "outputs": []
    }
  ]
}